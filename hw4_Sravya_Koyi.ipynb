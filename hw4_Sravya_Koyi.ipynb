{
  "nbformat": 4,
  "nbformat_minor": 0,
  "metadata": {
    "colab": {
      "provenance": []
    },
    "kernelspec": {
      "name": "python3",
      "display_name": "Python 3"
    },
    "language_info": {
      "name": "python"
    }
  },
  "cells": [
    {
      "cell_type": "markdown",
      "source": [
        "# Name: Sravya Koyi\n",
        "# ZID: Z1989016"
      ],
      "metadata": {
        "id": "BVpsp8CkrSBD"
      }
    },
    {
      "cell_type": "code",
      "source": [
        "from google.colab import drive\n",
        "drive.mount('/content/drive')\n"
      ],
      "metadata": {
        "colab": {
          "base_uri": "https://localhost:8080/"
        },
        "id": "RGP6LbjNjakL",
        "outputId": "6bda17d3-c022-41e2-a405-eff5403cc904"
      },
      "execution_count": 6,
      "outputs": [
        {
          "output_type": "stream",
          "name": "stdout",
          "text": [
            "Drive already mounted at /content/drive; to attempt to forcibly remount, call drive.mount(\"/content/drive\", force_remount=True).\n"
          ]
        }
      ]
    },
    {
      "cell_type": "code",
      "source": [
        "import numpy as np\n",
        "from sklearn.svm import SVC\n",
        "from sklearn.model_selection import GridSearchCV\n",
        "from sklearn.datasets import load_svmlight_file\n",
        "from sklearn.metrics import accuracy_score\n",
        "\n",
        "# Load the dataset\n",
        "all_X, all_Y = load_svmlight_file(\"/content/drive/MyDrive/code/sonar_scale.txt\")\n",
        "\n",
        "# Load train and test indices\n",
        "train_indices = -1 + np.loadtxt(\"/content/drive/MyDrive/code/sonar-scale-train-indices.txt\", dtype=int)\n",
        "test_indices = -1 + np.loadtxt(\"/content/drive/MyDrive/code/sonar-scale-test-indices.txt\", dtype=int)\n",
        "\n",
        "# Split the data into training and testing sets\n",
        "X_train, y_train = all_X[train_indices], all_Y[train_indices]\n",
        "X_test, y_test = all_X[test_indices], all_Y[test_indices]\n",
        "\n",
        "# Define candidate C values for GridSearch\n",
        "C_values = [0.01, 0.1, 1, 10, 100, 1000]\n",
        "kernels = ['linear', 'poly', 'rbf']\n",
        "results = {}\n",
        "\n",
        "for kernel in kernels:\n",
        "    print(f\"\\nTraining SVM with {kernel} kernel...\")\n",
        "\n",
        "    # Define the SVC model and GridSearch\n",
        "    svc = SVC(kernel=kernel)\n",
        "    clf = GridSearchCV(svc, {'C': C_values}, cv=5, error_score='raise')  # Error score set to raise for debugging\n",
        "\n",
        "    try:\n",
        "        # Fit model\n",
        "        clf.fit(X_train, y_train)\n",
        "\n",
        "        # Get best C and train final model\n",
        "        best_C = clf.best_params_['C']\n",
        "        print(f\"Best C for {kernel} kernel: {best_C}\")\n",
        "\n",
        "        final_model = SVC(kernel=kernel, C=best_C)\n",
        "        final_model.fit(X_train, y_train)\n",
        "\n",
        "        # Predict and calculate accuracy\n",
        "        y_pred = final_model.predict(X_test)\n",
        "        accuracy = accuracy_score(y_test, y_pred)\n",
        "\n",
        "        # Store results\n",
        "        results[kernel] = (accuracy, best_C)\n",
        "        print(f\"SVM with {kernel} kernel -- Accuracy: {accuracy:.2f}\")\n",
        "\n",
        "    except ValueError as e:\n",
        "        print(f\"Error with {kernel} kernel: {e}\")\n",
        "\n",
        "# Output the best kernel, C, and accuracy results\n",
        "best_kernel = max(results, key=lambda k: results[k][0])\n",
        "print(\"\\nBest kernel:\", best_kernel)\n",
        "print(\"Best C:\", results[best_kernel][1])\n",
        "print(\"Accuracies:\", {k: v[0] for k, v in results.items()})"
      ],
      "metadata": {
        "colab": {
          "base_uri": "https://localhost:8080/"
        },
        "id": "nF4Z_qD14l1M",
        "outputId": "19504910-a462-46fd-92a6-492b434cbcac"
      },
      "execution_count": 7,
      "outputs": [
        {
          "output_type": "stream",
          "name": "stdout",
          "text": [
            "\n",
            "Training SVM with linear kernel...\n",
            "Best C for linear kernel: 0.01\n",
            "SVM with linear kernel -- Accuracy: 0.69\n",
            "\n",
            "Training SVM with poly kernel...\n",
            "Best C for poly kernel: 1\n",
            "SVM with poly kernel -- Accuracy: 0.88\n",
            "\n",
            "Training SVM with rbf kernel...\n",
            "Best C for rbf kernel: 10\n",
            "SVM with rbf kernel -- Accuracy: 0.93\n",
            "\n",
            "Best kernel: rbf\n",
            "Best C: 10\n",
            "Accuracies: {'linear': 0.6896551724137931, 'poly': 0.8793103448275862, 'rbf': 0.9310344827586207}\n"
          ]
        }
      ]
    },
    {
      "cell_type": "code",
      "source": [
        "import numpy as np\n",
        "from sklearn.svm import SVC\n",
        "from sklearn.model_selection import cross_val_score\n",
        "from sklearn.metrics import accuracy_score, f1_score, roc_curve, auc\n",
        "import matplotlib.pyplot as plt\n",
        "\n",
        "def rescale_features(X):\n",
        "    \"\"\"Rescale features to [0,1] range\"\"\"\n",
        "    X_rescaled = np.zeros_like(X)\n",
        "    for j in range(X.shape[1]):\n",
        "        min_val = np.min(X[:, j])\n",
        "        max_val = np.max(X[:, j])\n",
        "        if max_val - min_val != 0:\n",
        "            X_rescaled[:, j] = (X[:, j] - min_val) / (max_val - min_val)\n",
        "        else:\n",
        "            X_rescaled[:, j] = X[:, j]\n",
        "    return X_rescaled\n",
        "\n",
        "def mean_normalization(X):\n",
        "    \"\"\"Apply mean normalization\"\"\"\n",
        "    X_normalized = np.zeros_like(X)\n",
        "    for j in range(X.shape[1]):\n",
        "        min_val = np.min(X[:, j])\n",
        "        max_val = np.max(X[:, j])\n",
        "        mean_val = np.mean(X[:, j])\n",
        "        if max_val - min_val != 0:\n",
        "            X_normalized[:, j] = (X[:, j] - mean_val) / (max_val - min_val)\n",
        "        else:\n",
        "            X_normalized[:, j] = X[:, j]\n",
        "    return X_normalized\n",
        "\n",
        "def standardization(X):\n",
        "    \"\"\"Standardize features\"\"\"\n",
        "    X_standardized = np.zeros_like(X)\n",
        "    for j in range(X.shape[1]):\n",
        "        mean_val = np.mean(X[:, j])\n",
        "        std_val = np.std(X[:, j])\n",
        "        if std_val != 0:\n",
        "            X_standardized[:, j] = (X[:, j] - mean_val) / std_val\n",
        "        else:\n",
        "            X_standardized[:, j] = X[:, j]\n",
        "    return X_standardized\n",
        "\n",
        "# Load and prepare data\n",
        "print(\"Loading data...\")\n",
        "data = np.loadtxt(\"/content/drive/MyDrive/code/covtype.data\", delimiter=',')\n",
        "all_X = data[:, :-1]\n",
        "all_Y = data[:, -1]\n",
        "\n",
        "train_indices = -1 + np.loadtxt(\"/content/drive/MyDrive/code/covtype.train.index.txt\", dtype=int)\n",
        "test_indices = -1 + np.loadtxt(\"/content/drive/MyDrive/code/covtype.test.index.txt\", dtype=int)\n",
        "\n",
        "# Use subset of data for faster processing\n",
        "trainX = all_X[train_indices][0:-1:100]  # Take every 100th sample\n",
        "trainY = all_Y[train_indices][0:-1:100]\n",
        "testX = all_X[test_indices][0:-1:10]     # Take every 10th sample\n",
        "testY = all_Y[test_indices][0:-1:10]\n",
        "\n",
        "# Convert to binary classification\n",
        "trainY = np.where(trainY == 2, 1, -1)\n",
        "testY = np.where(testY == 2, 1, -1)\n",
        "\n",
        "print(f\"Training data shape: {trainX.shape}\")\n",
        "print(f\"Test data shape: {testX.shape}\")\n",
        "\n",
        "# Prepare different versions of the data\n",
        "preprocessing_methods = {\n",
        "    'Raw': lambda x: x,\n",
        "    'Rescaled': rescale_features,\n",
        "    'Mean Normalized': mean_normalization,\n",
        "    'Standardized': standardization\n",
        "}\n",
        "\n",
        "# Dictionary to store results\n",
        "results = {}\n",
        "C_values = [0.01, 0.1, 1, 10, 100, 1000]\n",
        "\n",
        "# Process data and train models\n",
        "for method_name, preprocess_func in preprocessing_methods.items():\n",
        "    print(f\"\\nProcessing {method_name} data...\")\n",
        "\n",
        "    # Preprocess data\n",
        "    trainX_processed = preprocess_func(trainX.copy())\n",
        "    testX_processed = preprocess_func(testX.copy())\n",
        "\n",
        "    # Find best C using cross-validation\n",
        "    best_score = -1\n",
        "    best_C = None\n",
        "\n",
        "    for C in C_values:\n",
        "        print(f\"Testing C={C}...\")\n",
        "        svm = SVC(C=C, kernel='linear', max_iter=5000)\n",
        "        scores = cross_val_score(svm, trainX_processed, trainY, cv=5)\n",
        "        mean_score = np.mean(scores)\n",
        "\n",
        "        if mean_score > best_score:\n",
        "            best_score = mean_score\n",
        "            best_C = C\n",
        "\n",
        "    print(f\"Best C value for {method_name}: {best_C}\")\n",
        "\n",
        "    # Train final model with best C\n",
        "    final_model = SVC(C=best_C, kernel='linear', probability=True, max_iter=5000)\n",
        "    final_model.fit(trainX_processed, trainY)\n",
        "\n",
        "    # Make predictions\n",
        "    y_pred = final_model.predict(testX_processed)\n",
        "    y_prob = final_model.predict_proba(testX_processed)[:, 1]\n",
        "\n",
        "    # Calculate metrics\n",
        "    accuracy = accuracy_score(testY, y_pred)\n",
        "    f1 = f1_score(testY, y_pred, pos_label=1)\n",
        "    fpr, tpr, _ = roc_curve(testY, y_prob)\n",
        "    roc_auc = auc(fpr, tpr)\n",
        "\n",
        "    results[method_name] = {\n",
        "        'accuracy': accuracy,\n",
        "        'f1_score': f1,\n",
        "        'auc': roc_auc,\n",
        "        'fpr': fpr,\n",
        "        'tpr': tpr\n",
        "    }\n",
        "\n",
        "#Create plots\n",
        "plt.figure(figsize=(12, 6))\n",
        "\n",
        "# Plot 1: ROC curves\n",
        "plt.subplot(1, 2, 1)\n",
        "colors = ['b', 'g', 'r', 'c']\n",
        "for (method_name, result), color in zip(results.items(), colors):\n",
        "    plt.plot(result['fpr'], result['tpr'], color=color, lw=2,\n",
        "             label=f'{method_name} (AUC = {result[\"auc\"]:.2f})')\n",
        "\n",
        "plt.plot([0, 1], [0, 1], 'k--', lw=2)\n",
        "plt.xlim([0.0, 1.0])\n",
        "plt.ylim([0.0, 1.05])\n",
        "plt.xlabel('False Positive Rate')\n",
        "plt.ylabel('True Positive Rate')\n",
        "plt.title('ROC Curves')\n",
        "plt.legend(loc=\"lower right\")\n",
        "plt.grid(True)"
      ],
      "metadata": {
        "colab": {
          "base_uri": "https://localhost:8080/",
          "height": 1000
        },
        "id": "YLhB-38uqGgM",
        "outputId": "46057fd5-6866-4e3f-aa23-372ec7037c10"
      },
      "execution_count": 25,
      "outputs": [
        {
          "output_type": "stream",
          "name": "stdout",
          "text": [
            "Loading data...\n",
            "Training data shape: (5230, 54)\n",
            "Test data shape: (5810, 54)\n",
            "\n",
            "Processing Raw data...\n",
            "Testing C=0.01...\n"
          ]
        },
        {
          "output_type": "stream",
          "name": "stderr",
          "text": [
            "/usr/local/lib/python3.10/dist-packages/sklearn/svm/_base.py:297: ConvergenceWarning: Solver terminated early (max_iter=5000).  Consider pre-processing your data with StandardScaler or MinMaxScaler.\n",
            "  warnings.warn(\n",
            "/usr/local/lib/python3.10/dist-packages/sklearn/svm/_base.py:297: ConvergenceWarning: Solver terminated early (max_iter=5000).  Consider pre-processing your data with StandardScaler or MinMaxScaler.\n",
            "  warnings.warn(\n",
            "/usr/local/lib/python3.10/dist-packages/sklearn/svm/_base.py:297: ConvergenceWarning: Solver terminated early (max_iter=5000).  Consider pre-processing your data with StandardScaler or MinMaxScaler.\n",
            "  warnings.warn(\n",
            "/usr/local/lib/python3.10/dist-packages/sklearn/svm/_base.py:297: ConvergenceWarning: Solver terminated early (max_iter=5000).  Consider pre-processing your data with StandardScaler or MinMaxScaler.\n",
            "  warnings.warn(\n",
            "/usr/local/lib/python3.10/dist-packages/sklearn/svm/_base.py:297: ConvergenceWarning: Solver terminated early (max_iter=5000).  Consider pre-processing your data with StandardScaler or MinMaxScaler.\n",
            "  warnings.warn(\n"
          ]
        },
        {
          "output_type": "stream",
          "name": "stdout",
          "text": [
            "Testing C=0.1...\n"
          ]
        },
        {
          "output_type": "stream",
          "name": "stderr",
          "text": [
            "/usr/local/lib/python3.10/dist-packages/sklearn/svm/_base.py:297: ConvergenceWarning: Solver terminated early (max_iter=5000).  Consider pre-processing your data with StandardScaler or MinMaxScaler.\n",
            "  warnings.warn(\n",
            "/usr/local/lib/python3.10/dist-packages/sklearn/svm/_base.py:297: ConvergenceWarning: Solver terminated early (max_iter=5000).  Consider pre-processing your data with StandardScaler or MinMaxScaler.\n",
            "  warnings.warn(\n",
            "/usr/local/lib/python3.10/dist-packages/sklearn/svm/_base.py:297: ConvergenceWarning: Solver terminated early (max_iter=5000).  Consider pre-processing your data with StandardScaler or MinMaxScaler.\n",
            "  warnings.warn(\n",
            "/usr/local/lib/python3.10/dist-packages/sklearn/svm/_base.py:297: ConvergenceWarning: Solver terminated early (max_iter=5000).  Consider pre-processing your data with StandardScaler or MinMaxScaler.\n",
            "  warnings.warn(\n",
            "/usr/local/lib/python3.10/dist-packages/sklearn/svm/_base.py:297: ConvergenceWarning: Solver terminated early (max_iter=5000).  Consider pre-processing your data with StandardScaler or MinMaxScaler.\n",
            "  warnings.warn(\n",
            "/usr/local/lib/python3.10/dist-packages/sklearn/svm/_base.py:297: ConvergenceWarning: Solver terminated early (max_iter=5000).  Consider pre-processing your data with StandardScaler or MinMaxScaler.\n",
            "  warnings.warn(\n"
          ]
        },
        {
          "output_type": "stream",
          "name": "stdout",
          "text": [
            "Testing C=1...\n"
          ]
        },
        {
          "output_type": "stream",
          "name": "stderr",
          "text": [
            "/usr/local/lib/python3.10/dist-packages/sklearn/svm/_base.py:297: ConvergenceWarning: Solver terminated early (max_iter=5000).  Consider pre-processing your data with StandardScaler or MinMaxScaler.\n",
            "  warnings.warn(\n",
            "/usr/local/lib/python3.10/dist-packages/sklearn/svm/_base.py:297: ConvergenceWarning: Solver terminated early (max_iter=5000).  Consider pre-processing your data with StandardScaler or MinMaxScaler.\n",
            "  warnings.warn(\n",
            "/usr/local/lib/python3.10/dist-packages/sklearn/svm/_base.py:297: ConvergenceWarning: Solver terminated early (max_iter=5000).  Consider pre-processing your data with StandardScaler or MinMaxScaler.\n",
            "  warnings.warn(\n",
            "/usr/local/lib/python3.10/dist-packages/sklearn/svm/_base.py:297: ConvergenceWarning: Solver terminated early (max_iter=5000).  Consider pre-processing your data with StandardScaler or MinMaxScaler.\n",
            "  warnings.warn(\n",
            "/usr/local/lib/python3.10/dist-packages/sklearn/svm/_base.py:297: ConvergenceWarning: Solver terminated early (max_iter=5000).  Consider pre-processing your data with StandardScaler or MinMaxScaler.\n",
            "  warnings.warn(\n"
          ]
        },
        {
          "output_type": "stream",
          "name": "stdout",
          "text": [
            "Testing C=10...\n"
          ]
        },
        {
          "output_type": "stream",
          "name": "stderr",
          "text": [
            "/usr/local/lib/python3.10/dist-packages/sklearn/svm/_base.py:297: ConvergenceWarning: Solver terminated early (max_iter=5000).  Consider pre-processing your data with StandardScaler or MinMaxScaler.\n",
            "  warnings.warn(\n",
            "/usr/local/lib/python3.10/dist-packages/sklearn/svm/_base.py:297: ConvergenceWarning: Solver terminated early (max_iter=5000).  Consider pre-processing your data with StandardScaler or MinMaxScaler.\n",
            "  warnings.warn(\n",
            "/usr/local/lib/python3.10/dist-packages/sklearn/svm/_base.py:297: ConvergenceWarning: Solver terminated early (max_iter=5000).  Consider pre-processing your data with StandardScaler or MinMaxScaler.\n",
            "  warnings.warn(\n",
            "/usr/local/lib/python3.10/dist-packages/sklearn/svm/_base.py:297: ConvergenceWarning: Solver terminated early (max_iter=5000).  Consider pre-processing your data with StandardScaler or MinMaxScaler.\n",
            "  warnings.warn(\n",
            "/usr/local/lib/python3.10/dist-packages/sklearn/svm/_base.py:297: ConvergenceWarning: Solver terminated early (max_iter=5000).  Consider pre-processing your data with StandardScaler or MinMaxScaler.\n",
            "  warnings.warn(\n"
          ]
        },
        {
          "output_type": "stream",
          "name": "stdout",
          "text": [
            "Testing C=100...\n"
          ]
        },
        {
          "output_type": "stream",
          "name": "stderr",
          "text": [
            "/usr/local/lib/python3.10/dist-packages/sklearn/svm/_base.py:297: ConvergenceWarning: Solver terminated early (max_iter=5000).  Consider pre-processing your data with StandardScaler or MinMaxScaler.\n",
            "  warnings.warn(\n",
            "/usr/local/lib/python3.10/dist-packages/sklearn/svm/_base.py:297: ConvergenceWarning: Solver terminated early (max_iter=5000).  Consider pre-processing your data with StandardScaler or MinMaxScaler.\n",
            "  warnings.warn(\n",
            "/usr/local/lib/python3.10/dist-packages/sklearn/svm/_base.py:297: ConvergenceWarning: Solver terminated early (max_iter=5000).  Consider pre-processing your data with StandardScaler or MinMaxScaler.\n",
            "  warnings.warn(\n",
            "/usr/local/lib/python3.10/dist-packages/sklearn/svm/_base.py:297: ConvergenceWarning: Solver terminated early (max_iter=5000).  Consider pre-processing your data with StandardScaler or MinMaxScaler.\n",
            "  warnings.warn(\n",
            "/usr/local/lib/python3.10/dist-packages/sklearn/svm/_base.py:297: ConvergenceWarning: Solver terminated early (max_iter=5000).  Consider pre-processing your data with StandardScaler or MinMaxScaler.\n",
            "  warnings.warn(\n"
          ]
        },
        {
          "output_type": "stream",
          "name": "stdout",
          "text": [
            "Testing C=1000...\n"
          ]
        },
        {
          "output_type": "stream",
          "name": "stderr",
          "text": [
            "/usr/local/lib/python3.10/dist-packages/sklearn/svm/_base.py:297: ConvergenceWarning: Solver terminated early (max_iter=5000).  Consider pre-processing your data with StandardScaler or MinMaxScaler.\n",
            "  warnings.warn(\n",
            "/usr/local/lib/python3.10/dist-packages/sklearn/svm/_base.py:297: ConvergenceWarning: Solver terminated early (max_iter=5000).  Consider pre-processing your data with StandardScaler or MinMaxScaler.\n",
            "  warnings.warn(\n",
            "/usr/local/lib/python3.10/dist-packages/sklearn/svm/_base.py:297: ConvergenceWarning: Solver terminated early (max_iter=5000).  Consider pre-processing your data with StandardScaler or MinMaxScaler.\n",
            "  warnings.warn(\n",
            "/usr/local/lib/python3.10/dist-packages/sklearn/svm/_base.py:297: ConvergenceWarning: Solver terminated early (max_iter=5000).  Consider pre-processing your data with StandardScaler or MinMaxScaler.\n",
            "  warnings.warn(\n"
          ]
        },
        {
          "output_type": "stream",
          "name": "stdout",
          "text": [
            "Best C value for Raw: 0.01\n"
          ]
        },
        {
          "output_type": "stream",
          "name": "stderr",
          "text": [
            "/usr/local/lib/python3.10/dist-packages/sklearn/svm/_base.py:297: ConvergenceWarning: Solver terminated early (max_iter=5000).  Consider pre-processing your data with StandardScaler or MinMaxScaler.\n",
            "  warnings.warn(\n"
          ]
        },
        {
          "output_type": "stream",
          "name": "stdout",
          "text": [
            "\n",
            "Processing Rescaled data...\n",
            "Testing C=0.01...\n",
            "Testing C=0.1...\n",
            "Testing C=1...\n",
            "Testing C=10...\n"
          ]
        },
        {
          "output_type": "stream",
          "name": "stderr",
          "text": [
            "/usr/local/lib/python3.10/dist-packages/sklearn/svm/_base.py:297: ConvergenceWarning: Solver terminated early (max_iter=5000).  Consider pre-processing your data with StandardScaler or MinMaxScaler.\n",
            "  warnings.warn(\n",
            "/usr/local/lib/python3.10/dist-packages/sklearn/svm/_base.py:297: ConvergenceWarning: Solver terminated early (max_iter=5000).  Consider pre-processing your data with StandardScaler or MinMaxScaler.\n",
            "  warnings.warn(\n",
            "/usr/local/lib/python3.10/dist-packages/sklearn/svm/_base.py:297: ConvergenceWarning: Solver terminated early (max_iter=5000).  Consider pre-processing your data with StandardScaler or MinMaxScaler.\n",
            "  warnings.warn(\n",
            "/usr/local/lib/python3.10/dist-packages/sklearn/svm/_base.py:297: ConvergenceWarning: Solver terminated early (max_iter=5000).  Consider pre-processing your data with StandardScaler or MinMaxScaler.\n",
            "  warnings.warn(\n",
            "/usr/local/lib/python3.10/dist-packages/sklearn/svm/_base.py:297: ConvergenceWarning: Solver terminated early (max_iter=5000).  Consider pre-processing your data with StandardScaler or MinMaxScaler.\n",
            "  warnings.warn(\n"
          ]
        },
        {
          "output_type": "stream",
          "name": "stdout",
          "text": [
            "Testing C=100...\n"
          ]
        },
        {
          "output_type": "stream",
          "name": "stderr",
          "text": [
            "/usr/local/lib/python3.10/dist-packages/sklearn/svm/_base.py:297: ConvergenceWarning: Solver terminated early (max_iter=5000).  Consider pre-processing your data with StandardScaler or MinMaxScaler.\n",
            "  warnings.warn(\n",
            "/usr/local/lib/python3.10/dist-packages/sklearn/svm/_base.py:297: ConvergenceWarning: Solver terminated early (max_iter=5000).  Consider pre-processing your data with StandardScaler or MinMaxScaler.\n",
            "  warnings.warn(\n",
            "/usr/local/lib/python3.10/dist-packages/sklearn/svm/_base.py:297: ConvergenceWarning: Solver terminated early (max_iter=5000).  Consider pre-processing your data with StandardScaler or MinMaxScaler.\n",
            "  warnings.warn(\n",
            "/usr/local/lib/python3.10/dist-packages/sklearn/svm/_base.py:297: ConvergenceWarning: Solver terminated early (max_iter=5000).  Consider pre-processing your data with StandardScaler or MinMaxScaler.\n",
            "  warnings.warn(\n",
            "/usr/local/lib/python3.10/dist-packages/sklearn/svm/_base.py:297: ConvergenceWarning: Solver terminated early (max_iter=5000).  Consider pre-processing your data with StandardScaler or MinMaxScaler.\n",
            "  warnings.warn(\n"
          ]
        },
        {
          "output_type": "stream",
          "name": "stdout",
          "text": [
            "Testing C=1000...\n"
          ]
        },
        {
          "output_type": "stream",
          "name": "stderr",
          "text": [
            "/usr/local/lib/python3.10/dist-packages/sklearn/svm/_base.py:297: ConvergenceWarning: Solver terminated early (max_iter=5000).  Consider pre-processing your data with StandardScaler or MinMaxScaler.\n",
            "  warnings.warn(\n",
            "/usr/local/lib/python3.10/dist-packages/sklearn/svm/_base.py:297: ConvergenceWarning: Solver terminated early (max_iter=5000).  Consider pre-processing your data with StandardScaler or MinMaxScaler.\n",
            "  warnings.warn(\n",
            "/usr/local/lib/python3.10/dist-packages/sklearn/svm/_base.py:297: ConvergenceWarning: Solver terminated early (max_iter=5000).  Consider pre-processing your data with StandardScaler or MinMaxScaler.\n",
            "  warnings.warn(\n",
            "/usr/local/lib/python3.10/dist-packages/sklearn/svm/_base.py:297: ConvergenceWarning: Solver terminated early (max_iter=5000).  Consider pre-processing your data with StandardScaler or MinMaxScaler.\n",
            "  warnings.warn(\n",
            "/usr/local/lib/python3.10/dist-packages/sklearn/svm/_base.py:297: ConvergenceWarning: Solver terminated early (max_iter=5000).  Consider pre-processing your data with StandardScaler or MinMaxScaler.\n",
            "  warnings.warn(\n"
          ]
        },
        {
          "output_type": "stream",
          "name": "stdout",
          "text": [
            "Best C value for Rescaled: 1\n"
          ]
        },
        {
          "output_type": "stream",
          "name": "stderr",
          "text": [
            "/usr/local/lib/python3.10/dist-packages/sklearn/svm/_base.py:297: ConvergenceWarning: Solver terminated early (max_iter=5000).  Consider pre-processing your data with StandardScaler or MinMaxScaler.\n",
            "  warnings.warn(\n"
          ]
        },
        {
          "output_type": "stream",
          "name": "stdout",
          "text": [
            "\n",
            "Processing Mean Normalized data...\n",
            "Testing C=0.01...\n",
            "Testing C=0.1...\n",
            "Testing C=1...\n",
            "Testing C=10...\n"
          ]
        },
        {
          "output_type": "stream",
          "name": "stderr",
          "text": [
            "/usr/local/lib/python3.10/dist-packages/sklearn/svm/_base.py:297: ConvergenceWarning: Solver terminated early (max_iter=5000).  Consider pre-processing your data with StandardScaler or MinMaxScaler.\n",
            "  warnings.warn(\n",
            "/usr/local/lib/python3.10/dist-packages/sklearn/svm/_base.py:297: ConvergenceWarning: Solver terminated early (max_iter=5000).  Consider pre-processing your data with StandardScaler or MinMaxScaler.\n",
            "  warnings.warn(\n",
            "/usr/local/lib/python3.10/dist-packages/sklearn/svm/_base.py:297: ConvergenceWarning: Solver terminated early (max_iter=5000).  Consider pre-processing your data with StandardScaler or MinMaxScaler.\n",
            "  warnings.warn(\n",
            "/usr/local/lib/python3.10/dist-packages/sklearn/svm/_base.py:297: ConvergenceWarning: Solver terminated early (max_iter=5000).  Consider pre-processing your data with StandardScaler or MinMaxScaler.\n",
            "  warnings.warn(\n",
            "/usr/local/lib/python3.10/dist-packages/sklearn/svm/_base.py:297: ConvergenceWarning: Solver terminated early (max_iter=5000).  Consider pre-processing your data with StandardScaler or MinMaxScaler.\n",
            "  warnings.warn(\n"
          ]
        },
        {
          "output_type": "stream",
          "name": "stdout",
          "text": [
            "Testing C=100...\n"
          ]
        },
        {
          "output_type": "stream",
          "name": "stderr",
          "text": [
            "/usr/local/lib/python3.10/dist-packages/sklearn/svm/_base.py:297: ConvergenceWarning: Solver terminated early (max_iter=5000).  Consider pre-processing your data with StandardScaler or MinMaxScaler.\n",
            "  warnings.warn(\n",
            "/usr/local/lib/python3.10/dist-packages/sklearn/svm/_base.py:297: ConvergenceWarning: Solver terminated early (max_iter=5000).  Consider pre-processing your data with StandardScaler or MinMaxScaler.\n",
            "  warnings.warn(\n",
            "/usr/local/lib/python3.10/dist-packages/sklearn/svm/_base.py:297: ConvergenceWarning: Solver terminated early (max_iter=5000).  Consider pre-processing your data with StandardScaler or MinMaxScaler.\n",
            "  warnings.warn(\n",
            "/usr/local/lib/python3.10/dist-packages/sklearn/svm/_base.py:297: ConvergenceWarning: Solver terminated early (max_iter=5000).  Consider pre-processing your data with StandardScaler or MinMaxScaler.\n",
            "  warnings.warn(\n",
            "/usr/local/lib/python3.10/dist-packages/sklearn/svm/_base.py:297: ConvergenceWarning: Solver terminated early (max_iter=5000).  Consider pre-processing your data with StandardScaler or MinMaxScaler.\n",
            "  warnings.warn(\n"
          ]
        },
        {
          "output_type": "stream",
          "name": "stdout",
          "text": [
            "Testing C=1000...\n"
          ]
        },
        {
          "output_type": "stream",
          "name": "stderr",
          "text": [
            "/usr/local/lib/python3.10/dist-packages/sklearn/svm/_base.py:297: ConvergenceWarning: Solver terminated early (max_iter=5000).  Consider pre-processing your data with StandardScaler or MinMaxScaler.\n",
            "  warnings.warn(\n",
            "/usr/local/lib/python3.10/dist-packages/sklearn/svm/_base.py:297: ConvergenceWarning: Solver terminated early (max_iter=5000).  Consider pre-processing your data with StandardScaler or MinMaxScaler.\n",
            "  warnings.warn(\n",
            "/usr/local/lib/python3.10/dist-packages/sklearn/svm/_base.py:297: ConvergenceWarning: Solver terminated early (max_iter=5000).  Consider pre-processing your data with StandardScaler or MinMaxScaler.\n",
            "  warnings.warn(\n",
            "/usr/local/lib/python3.10/dist-packages/sklearn/svm/_base.py:297: ConvergenceWarning: Solver terminated early (max_iter=5000).  Consider pre-processing your data with StandardScaler or MinMaxScaler.\n",
            "  warnings.warn(\n",
            "/usr/local/lib/python3.10/dist-packages/sklearn/svm/_base.py:297: ConvergenceWarning: Solver terminated early (max_iter=5000).  Consider pre-processing your data with StandardScaler or MinMaxScaler.\n",
            "  warnings.warn(\n"
          ]
        },
        {
          "output_type": "stream",
          "name": "stdout",
          "text": [
            "Best C value for Mean Normalized: 10\n"
          ]
        },
        {
          "output_type": "stream",
          "name": "stderr",
          "text": [
            "/usr/local/lib/python3.10/dist-packages/sklearn/svm/_base.py:297: ConvergenceWarning: Solver terminated early (max_iter=5000).  Consider pre-processing your data with StandardScaler or MinMaxScaler.\n",
            "  warnings.warn(\n"
          ]
        },
        {
          "output_type": "stream",
          "name": "stdout",
          "text": [
            "\n",
            "Processing Standardized data...\n",
            "Testing C=0.01...\n",
            "Testing C=0.1...\n"
          ]
        },
        {
          "output_type": "stream",
          "name": "stderr",
          "text": [
            "/usr/local/lib/python3.10/dist-packages/sklearn/svm/_base.py:297: ConvergenceWarning: Solver terminated early (max_iter=5000).  Consider pre-processing your data with StandardScaler or MinMaxScaler.\n",
            "  warnings.warn(\n",
            "/usr/local/lib/python3.10/dist-packages/sklearn/svm/_base.py:297: ConvergenceWarning: Solver terminated early (max_iter=5000).  Consider pre-processing your data with StandardScaler or MinMaxScaler.\n",
            "  warnings.warn(\n",
            "/usr/local/lib/python3.10/dist-packages/sklearn/svm/_base.py:297: ConvergenceWarning: Solver terminated early (max_iter=5000).  Consider pre-processing your data with StandardScaler or MinMaxScaler.\n",
            "  warnings.warn(\n",
            "/usr/local/lib/python3.10/dist-packages/sklearn/svm/_base.py:297: ConvergenceWarning: Solver terminated early (max_iter=5000).  Consider pre-processing your data with StandardScaler or MinMaxScaler.\n",
            "  warnings.warn(\n",
            "/usr/local/lib/python3.10/dist-packages/sklearn/svm/_base.py:297: ConvergenceWarning: Solver terminated early (max_iter=5000).  Consider pre-processing your data with StandardScaler or MinMaxScaler.\n",
            "  warnings.warn(\n"
          ]
        },
        {
          "output_type": "stream",
          "name": "stdout",
          "text": [
            "Testing C=1...\n"
          ]
        },
        {
          "output_type": "stream",
          "name": "stderr",
          "text": [
            "/usr/local/lib/python3.10/dist-packages/sklearn/svm/_base.py:297: ConvergenceWarning: Solver terminated early (max_iter=5000).  Consider pre-processing your data with StandardScaler or MinMaxScaler.\n",
            "  warnings.warn(\n",
            "/usr/local/lib/python3.10/dist-packages/sklearn/svm/_base.py:297: ConvergenceWarning: Solver terminated early (max_iter=5000).  Consider pre-processing your data with StandardScaler or MinMaxScaler.\n",
            "  warnings.warn(\n",
            "/usr/local/lib/python3.10/dist-packages/sklearn/svm/_base.py:297: ConvergenceWarning: Solver terminated early (max_iter=5000).  Consider pre-processing your data with StandardScaler or MinMaxScaler.\n",
            "  warnings.warn(\n",
            "/usr/local/lib/python3.10/dist-packages/sklearn/svm/_base.py:297: ConvergenceWarning: Solver terminated early (max_iter=5000).  Consider pre-processing your data with StandardScaler or MinMaxScaler.\n",
            "  warnings.warn(\n",
            "/usr/local/lib/python3.10/dist-packages/sklearn/svm/_base.py:297: ConvergenceWarning: Solver terminated early (max_iter=5000).  Consider pre-processing your data with StandardScaler or MinMaxScaler.\n",
            "  warnings.warn(\n"
          ]
        },
        {
          "output_type": "stream",
          "name": "stdout",
          "text": [
            "Testing C=10...\n"
          ]
        },
        {
          "output_type": "stream",
          "name": "stderr",
          "text": [
            "/usr/local/lib/python3.10/dist-packages/sklearn/svm/_base.py:297: ConvergenceWarning: Solver terminated early (max_iter=5000).  Consider pre-processing your data with StandardScaler or MinMaxScaler.\n",
            "  warnings.warn(\n",
            "/usr/local/lib/python3.10/dist-packages/sklearn/svm/_base.py:297: ConvergenceWarning: Solver terminated early (max_iter=5000).  Consider pre-processing your data with StandardScaler or MinMaxScaler.\n",
            "  warnings.warn(\n",
            "/usr/local/lib/python3.10/dist-packages/sklearn/svm/_base.py:297: ConvergenceWarning: Solver terminated early (max_iter=5000).  Consider pre-processing your data with StandardScaler or MinMaxScaler.\n",
            "  warnings.warn(\n",
            "/usr/local/lib/python3.10/dist-packages/sklearn/svm/_base.py:297: ConvergenceWarning: Solver terminated early (max_iter=5000).  Consider pre-processing your data with StandardScaler or MinMaxScaler.\n",
            "  warnings.warn(\n",
            "/usr/local/lib/python3.10/dist-packages/sklearn/svm/_base.py:297: ConvergenceWarning: Solver terminated early (max_iter=5000).  Consider pre-processing your data with StandardScaler or MinMaxScaler.\n",
            "  warnings.warn(\n"
          ]
        },
        {
          "output_type": "stream",
          "name": "stdout",
          "text": [
            "Testing C=100...\n"
          ]
        },
        {
          "output_type": "stream",
          "name": "stderr",
          "text": [
            "/usr/local/lib/python3.10/dist-packages/sklearn/svm/_base.py:297: ConvergenceWarning: Solver terminated early (max_iter=5000).  Consider pre-processing your data with StandardScaler or MinMaxScaler.\n",
            "  warnings.warn(\n",
            "/usr/local/lib/python3.10/dist-packages/sklearn/svm/_base.py:297: ConvergenceWarning: Solver terminated early (max_iter=5000).  Consider pre-processing your data with StandardScaler or MinMaxScaler.\n",
            "  warnings.warn(\n",
            "/usr/local/lib/python3.10/dist-packages/sklearn/svm/_base.py:297: ConvergenceWarning: Solver terminated early (max_iter=5000).  Consider pre-processing your data with StandardScaler or MinMaxScaler.\n",
            "  warnings.warn(\n",
            "/usr/local/lib/python3.10/dist-packages/sklearn/svm/_base.py:297: ConvergenceWarning: Solver terminated early (max_iter=5000).  Consider pre-processing your data with StandardScaler or MinMaxScaler.\n",
            "  warnings.warn(\n",
            "/usr/local/lib/python3.10/dist-packages/sklearn/svm/_base.py:297: ConvergenceWarning: Solver terminated early (max_iter=5000).  Consider pre-processing your data with StandardScaler or MinMaxScaler.\n",
            "  warnings.warn(\n"
          ]
        },
        {
          "output_type": "stream",
          "name": "stdout",
          "text": [
            "Testing C=1000...\n"
          ]
        },
        {
          "output_type": "stream",
          "name": "stderr",
          "text": [
            "/usr/local/lib/python3.10/dist-packages/sklearn/svm/_base.py:297: ConvergenceWarning: Solver terminated early (max_iter=5000).  Consider pre-processing your data with StandardScaler or MinMaxScaler.\n",
            "  warnings.warn(\n",
            "/usr/local/lib/python3.10/dist-packages/sklearn/svm/_base.py:297: ConvergenceWarning: Solver terminated early (max_iter=5000).  Consider pre-processing your data with StandardScaler or MinMaxScaler.\n",
            "  warnings.warn(\n",
            "/usr/local/lib/python3.10/dist-packages/sklearn/svm/_base.py:297: ConvergenceWarning: Solver terminated early (max_iter=5000).  Consider pre-processing your data with StandardScaler or MinMaxScaler.\n",
            "  warnings.warn(\n",
            "/usr/local/lib/python3.10/dist-packages/sklearn/svm/_base.py:297: ConvergenceWarning: Solver terminated early (max_iter=5000).  Consider pre-processing your data with StandardScaler or MinMaxScaler.\n",
            "  warnings.warn(\n",
            "/usr/local/lib/python3.10/dist-packages/sklearn/svm/_base.py:297: ConvergenceWarning: Solver terminated early (max_iter=5000).  Consider pre-processing your data with StandardScaler or MinMaxScaler.\n",
            "  warnings.warn(\n"
          ]
        },
        {
          "output_type": "stream",
          "name": "stdout",
          "text": [
            "Best C value for Standardized: 0.01\n"
          ]
        },
        {
          "output_type": "display_data",
          "data": {
            "text/plain": [
              "<Figure size 1200x600 with 1 Axes>"
            ],
            "image/png": "[encoded data removed]"
          },
          "metadata": {}
        }
      ]
    },
    {
      "cell_type": "code",
      "source": [
        "import numpy as np\n",
        "from collections import defaultdict\n",
        "import math\n",
        "\n",
        "# Load dataset and preprocess\n",
        "def load_data(file_path):\n",
        "    data = []\n",
        "    with open(file_path, 'r') as f:\n",
        "        for line in f:\n",
        "            doc_id, word_id, frequency = map(int, line.split())\n",
        "            data.append((doc_id - 1, word_id - 1, frequency))\n",
        "    return data\n",
        "\n",
        "def load_labels(file_path):\n",
        "    return np.loadtxt(file_path, dtype=int) - 1\n",
        "\n",
        "# Prepare word counts for each class\n",
        "def prepare_word_counts(data, labels, num_classes, num_words):\n",
        "    word_counts = np.zeros((num_classes, num_words), dtype=np.float64)\n",
        "    doc_counts = np.zeros(num_classes, dtype=np.float64)\n",
        "\n",
        "    for doc_id, word_id, freq in data:\n",
        "        class_id = labels[doc_id]\n",
        "        word_counts[class_id, word_id] += freq\n",
        "        doc_counts[class_id] += freq\n",
        "    return word_counts, doc_counts\n",
        "\n",
        "# Calculate class probabilities with Laplace smoothing\n",
        "def calculate_probabilities(word_counts, doc_counts, num_words):\n",
        "    probabilities = (word_counts + 1) / (doc_counts[:, None] + num_words)\n",
        "    return probabilities\n",
        "\n",
        "# Calculate log probability for each class given a document\n",
        "def calculate_log_likelihoods(document, probabilities, class_priors):\n",
        "    log_likelihoods = np.log(class_priors)\n",
        "    for word_id, freq in document.items():\n",
        "        log_likelihoods += freq * np.log(probabilities[:, word_id])\n",
        "    return log_likelihoods\n",
        "\n",
        "# Naive Bayes Classifier\n",
        "class NaiveBayesClassifier:\n",
        "    def __init__(self, num_classes, num_words):\n",
        "        self.num_classes = num_classes\n",
        "        self.num_words = num_words\n",
        "        self.class_priors = None\n",
        "        self.probabilities = None\n",
        "\n",
        "    def train(self, train_data, train_labels):\n",
        "        word_counts, doc_counts = prepare_word_counts(train_data, train_labels, self.num_classes, self.num_words)\n",
        "        total_docs = len(train_labels)\n",
        "        self.class_priors = np.array([np.sum(train_labels == c) / total_docs for c in range(self.num_classes)])\n",
        "        self.probabilities = calculate_probabilities(word_counts, doc_counts, self.num_words)\n",
        "\n",
        "    def predict(self, test_data):\n",
        "        predictions = []\n",
        "        for document in test_data:\n",
        "            log_likelihoods = calculate_log_likelihoods(document, self.probabilities, self.class_priors)\n",
        "            predictions.append(np.argmax(log_likelihoods))\n",
        "        return predictions\n",
        "\n",
        "    def predict_document(self, doc):\n",
        "        return np.argmax(calculate_log_likelihoods(doc, self.probabilities, self.class_priors))\n",
        "\n",
        "# Process raw data into document format for predictions\n",
        "def prepare_documents(data, num_docs):\n",
        "    documents = defaultdict(lambda: defaultdict(int))\n",
        "    for doc_id, word_id, frequency in data:\n",
        "        documents[doc_id][word_id] += frequency\n",
        "    return [dict(doc) for _, doc in sorted(documents.items())]\n",
        "\n",
        "# Load and preprocess training and test sets\n",
        "def main():\n",
        "    num_classes = 20   # Define number of classes in 20Newsgroups\n",
        "    num_words = 61188  # Define the total number of words in the dataset\n",
        "\n",
        "    # Load data\n",
        "    train_data = load_data(\"/content/drive/MyDrive/code/train.data\")\n",
        "    train_labels = load_labels(\"/content/drive/MyDrive/code/train.label\")\n",
        "    test_data = load_data(\"/content/drive/MyDrive/code/test.data\")\n",
        "    test_labels = load_labels(\"/content/drive/MyDrive/code/test.label\")\n",
        "\n",
        "    # Prepare documents for training and testing\n",
        "    train_documents = prepare_documents(train_data, len(train_labels))\n",
        "    test_documents = prepare_documents(test_data, len(test_labels))\n",
        "\n",
        "    # Initialize and train Naive Bayes model\n",
        "    nb_classifier = NaiveBayesClassifier(num_classes, num_words)\n",
        "    nb_classifier.train(train_data, train_labels)\n",
        "\n",
        "    # Make predictions\n",
        "    predictions = [nb_classifier.predict_document(doc) for doc in test_documents]\n",
        "\n",
        "    # Calculate accuracy\n",
        "    accuracy = np.mean(np.array(predictions) == test_labels)\n",
        "    print(f\"Test Set Accuracy: {accuracy:.4f}\")\n",
        "\n",
        "if __name__ == \"__main__\":\n",
        "    main()\n"
      ],
      "metadata": {
        "colab": {
          "base_uri": "https://localhost:8080/"
        },
        "id": "uzIhAi75qtws",
        "outputId": "6767f07e-88ca-4add-a55d-e3577486b591"
      },
      "execution_count": 20,
      "outputs": [
        {
          "output_type": "stream",
          "name": "stdout",
          "text": [
            "Test Set Accuracy: 0.7811\n"
          ]
        }
      ]
    }
  ]
}